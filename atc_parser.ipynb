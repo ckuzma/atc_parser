{
 "cells": [
  {
   "cell_type": "code",
   "execution_count": 23,
   "metadata": {},
   "outputs": [],
   "source": [
    "import pandas as pd\n",
    "from sklearn import svm\n",
    "\n",
    "class SVM_Classifier:\n",
    "    def __init__(self):\n",
    "        self.lin_clf = None\n",
    "    \n",
    "    def train(self, training_data, class_labels):\n",
    "        self.lin_clf = svm.LinearSVC(dual=\"auto\")\n",
    "        self.lin_clf.fit(training_data, class_labels)\n",
    "        return True\n",
    "    \n",
    "    def classify(self, test_data):\n",
    "        results = None\n",
    "        results = list(self.lin_clf.predict(test_data))\n",
    "        # print(results)\n",
    "        return results\n",
    "    \n",
    "class Read_CSV_Pandas:\n",
    "    def __init__(self):\n",
    "        pass\n",
    "\n",
    "    def readCsv(self, data_location):\n",
    "        data = pd.read_csv(\"dummy_data_atc.csv\", index_col=0)\n",
    "        data = data.to_csv()\n",
    "        data = data.split(\"\\n\")\n",
    "        x = 0\n",
    "        while x < len(data):\n",
    "            data[x] = data[x].split(\",\")\n",
    "            x+=1\n",
    "        data.pop(len(data) - 1)\n",
    "        return data\n"
   ]
  },
  {
   "cell_type": "code",
   "execution_count": 24,
   "metadata": {},
   "outputs": [
    {
     "name": "stdout",
     "output_type": "stream",
     "text": [
      "['ground ready to taxi', 'ready to taxi']\n",
      "['taxi via to runway', 'taxi to runway']\n",
      "['tower holding short ready to takeoff', 'holding short runway']\n",
      "['takeoff runway', 'takeoff confirmed']\n",
      "['tower midfield downwind for runway', 'pattern location']\n",
      "['taxi via to ramp', 'taxi to ramp']\n"
     ]
    }
   ],
   "source": [
    "# Read in the CSV file\n",
    "data = Read_CSV_Pandas()\n",
    "atc_dummy_data = data.readCsv(\"dummy_data_atc.csv\")\n",
    "\n",
    "# Pretty print, noting that each row looks like this:\n",
    "# utterance,class_label\n",
    "for row in atc_dummy_data:\n",
    "    print(row)\n"
   ]
  },
  {
   "cell_type": "code",
   "execution_count": 25,
   "metadata": {},
   "outputs": [
    {
     "name": "stdout",
     "output_type": "stream",
     "text": [
      "{\n",
      "  \"ground\": 0,\n",
      "  \"ready\": 1,\n",
      "  \"to\": 2,\n",
      "  \"taxi\": 3,\n",
      "  \"via\": 4,\n",
      "  \"runway\": 5,\n",
      "  \"tower\": 6,\n",
      "  \"holding\": 7,\n",
      "  \"short\": 8,\n",
      "  \"takeoff\": 9,\n",
      "  \"midfield\": 10,\n",
      "  \"downwind\": 11,\n",
      "  \"for\": 12,\n",
      "  \"ramp\": 13\n",
      "}\n"
     ]
    }
   ],
   "source": [
    "def tokenizer(utterance):\n",
    "    return utterance.split(\" \")\n",
    "\n",
    "def make_ngram_vector_dict(list_of_utterances):\n",
    "    word_list = []\n",
    "    for utterance in list_of_utterances:\n",
    "        words = tokenizer(utterance)\n",
    "        for word in words:\n",
    "            if word not in word_list:\n",
    "                word_list.append(word)\n",
    "    vector_dict = {}\n",
    "    x = 0\n",
    "    while x < len(word_list):\n",
    "        vector_dict[word_list[x]] = x\n",
    "        x+=1\n",
    "    return vector_dict\n",
    "\n",
    "# Extract a feature vector map consisting of words\n",
    "all_utterances = []\n",
    "for row in atc_dummy_data:\n",
    "    all_utterances.append(row[0])\n",
    "feature_vector_map = make_ngram_vector_dict(all_utterances)\n",
    "\n",
    "# Pretty print it\n",
    "import json\n",
    "print(json.dumps(feature_vector_map, indent=2))"
   ]
  },
  {
   "cell_type": "code",
   "execution_count": 26,
   "metadata": {},
   "outputs": [
    {
     "name": "stdout",
     "output_type": "stream",
     "text": [
      "['ground ready to taxi', 'ready to taxi', [1, 1, 1, 1, 0, 0, 0, 0, 0, 0, 0, 0, 0, 0]]\n",
      "['taxi via to runway', 'taxi to runway', [0, 0, 1, 1, 1, 1, 0, 0, 0, 0, 0, 0, 0, 0]]\n",
      "['tower holding short ready to takeoff', 'holding short runway', [0, 1, 1, 0, 0, 0, 1, 1, 1, 1, 0, 0, 0, 0]]\n",
      "['takeoff runway', 'takeoff confirmed', [0, 0, 0, 0, 0, 1, 0, 0, 0, 1, 0, 0, 0, 0]]\n",
      "['tower midfield downwind for runway', 'pattern location', [0, 0, 0, 0, 0, 1, 1, 0, 0, 0, 1, 1, 1, 0]]\n",
      "['taxi via to ramp', 'taxi to ramp', [0, 0, 1, 1, 1, 0, 0, 0, 0, 0, 0, 0, 0, 1]]\n"
     ]
    }
   ],
   "source": [
    "def convert_utterance_to_features(vector_map, utterance):\n",
    "    utterance = tokenizer(utterance)\n",
    "    output_features = [0] * len(vector_map) # Populate with 0's\n",
    "    for word in utterance:\n",
    "        try:\n",
    "            output_features[vector_map[word]] = 1\n",
    "        except:\n",
    "            pass\n",
    "    return output_features\n",
    "\n",
    "def add_utterance_as_features_to_data(vector_map, data_array):\n",
    "    x = 0\n",
    "    while x < len(data_array):\n",
    "        data_array[x].append(convert_utterance_to_features(vector_map, data_array[x][0]))\n",
    "        x+=1\n",
    "    return data_array\n",
    "\n",
    "# Add the feature vectors and values as a list to each row in our data\n",
    "atc_dummy_data = add_utterance_as_features_to_data(feature_vector_map, atc_dummy_data)\n",
    "\n",
    "# Pretty print it\n",
    "for row in atc_dummy_data:\n",
    "    print(row)\n",
    "    "
   ]
  },
  {
   "cell_type": "code",
   "execution_count": 27,
   "metadata": {},
   "outputs": [
    {
     "data": {
      "text/plain": [
       "True"
      ]
     },
     "execution_count": 27,
     "metadata": {},
     "output_type": "execute_result"
    }
   ],
   "source": [
    "# Train our SVM model based on the calculated feature vector weights and labels\n",
    "\n",
    "# Extract the features and labels\n",
    "training_data = []\n",
    "training_labels = []\n",
    "for row in atc_dummy_data:\n",
    "    training_data.append(row[2])\n",
    "    training_labels.append(row[1])\n",
    "\n",
    "# Instantiate our classifier\n",
    "atc_classifier = SVM_Classifier()\n",
    "\n",
    "# Train our classifier\n",
    "atc_classifier.train(training_data, training_labels)"
   ]
  },
  {
   "cell_type": "code",
   "execution_count": 28,
   "metadata": {},
   "outputs": [
    {
     "name": "stdout",
     "output_type": "stream",
     "text": [
      "Input utterance:\n",
      "\tapproaching right midfield downwind\n",
      "Input utterance as feature vectors and weights:\n",
      "\t[0, 0, 0, 0, 0, 0, 0, 0, 0, 0, 1, 1, 0, 0]\n",
      "That was classified as:\n",
      "\tpattern location\n"
     ]
    }
   ],
   "source": [
    "# Run a test utterance and see what it is classified as\n",
    "test_utterance = \"approaching right midfield downwind\"\n",
    "\n",
    "# Convert the string to feature vectors and weights\n",
    "test_utterance_features = convert_utterance_to_features(feature_vector_map, test_utterance)\n",
    "\n",
    "# Classify it\n",
    "test_utterance_class = atc_classifier.classify([test_utterance_features])\n",
    "\n",
    "# Extract the only element in the resulting single-dimensional array\n",
    "test_utterance_class = test_utterance_class[0]\n",
    "\n",
    "print(\"Input utterance:\\n\\t\" + test_utterance)\n",
    "print(\"Input utterance as feature vectors and weights:\\n\\t\" + str(test_utterance_features))\n",
    "print(\"That was classified as:\\n\\t\" + str(test_utterance_class))"
   ]
  }
 ],
 "metadata": {
  "kernelspec": {
   "display_name": "Python 3",
   "language": "python",
   "name": "python3"
  },
  "language_info": {
   "codemirror_mode": {
    "name": "ipython",
    "version": 3
   },
   "file_extension": ".py",
   "mimetype": "text/x-python",
   "name": "python",
   "nbconvert_exporter": "python",
   "pygments_lexer": "ipython3",
   "version": "3.11.6"
  }
 },
 "nbformat": 4,
 "nbformat_minor": 2
}
